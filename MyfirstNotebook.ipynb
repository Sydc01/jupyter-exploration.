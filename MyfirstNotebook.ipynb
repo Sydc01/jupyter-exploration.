{
  "metadata": {
    "kernelspec": {
      "name": "python",
      "display_name": "Python (Pyodide)",
      "language": "python"
    },
    "language_info": {
      "codemirror_mode": {
        "name": "python",
        "version": 3
      },
      "file_extension": ".py",
      "mimetype": "text/x-python",
      "name": "python",
      "nbconvert_exporter": "python",
      "pygments_lexer": "ipython3",
      "version": "3.8"
    },
    "colab": {
      "provenance": []
    }
  },
  "nbformat_minor": 0,
  "nbformat": 4,
  "cells": [
    {
      "cell_type": "markdown",
      "source": [
        "My first markdown cell on Jupyter notebook."
      ],
      "metadata": {
        "id": "LBmLm_kstQPo"
      }
    },
    {
      "cell_type": "code",
      "source": [
        "print(\"Hello, World!\")"
      ],
      "metadata": {
        "trusted": true,
        "id": "7FnMWAF6tQPq",
        "outputId": "37e1dd65-4718-46f5-b928-191a3e29ae15"
      },
      "outputs": [
        {
          "name": "stdout",
          "text": "Hello, World!\n",
          "output_type": "stream"
        }
      ],
      "execution_count": null
    },
    {
      "cell_type": "code",
      "source": [],
      "metadata": {
        "trusted": true,
        "id": "5JkMVy3LtQPs"
      },
      "outputs": [],
      "execution_count": null
    }
  ]
}